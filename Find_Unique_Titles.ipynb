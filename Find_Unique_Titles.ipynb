{
 "cells": [
  {
   "cell_type": "markdown",
   "id": "8e905f36",
   "metadata": {},
   "source": [
    "## This script should take a list of the existing titles from eTrack and compare it against the list of SEMDGroups titles, then return the unique values from SEMDGroups"
   ]
  },
  {
   "cell_type": "code",
   "execution_count": 55,
   "id": "bceadff9",
   "metadata": {},
   "outputs": [],
   "source": [
    "import pandas as pd\n",
    "import numpy as np\n",
    "import re\n",
    "\n",
    "dfGroups = pd.read_csv('../Lists/RawLists/SEMDGroups.csv')\n",
    "dfTitles = pd.read_csv('../Lists/RawLists/titles_reconcilliation.csv')\n",
    "# script Variables\n",
    "# carriage return\n",
    "CR = '\\n'"
   ]
  },
  {
   "cell_type": "code",
   "execution_count": 35,
   "id": "6a64e9ae",
   "metadata": {
    "collapsed": true
   },
   "outputs": [
    {
     "data": {
      "text/html": [
       "<div>\n",
       "<style scoped>\n",
       "    .dataframe tbody tr th:only-of-type {\n",
       "        vertical-align: middle;\n",
       "    }\n",
       "\n",
       "    .dataframe tbody tr th {\n",
       "        vertical-align: top;\n",
       "    }\n",
       "\n",
       "    .dataframe thead th {\n",
       "        text-align: right;\n",
       "    }\n",
       "</style>\n",
       "<table border=\"1\" class=\"dataframe\">\n",
       "  <thead>\n",
       "    <tr style=\"text-align: right;\">\n",
       "      <th></th>\n",
       "      <th>Group</th>\n",
       "      <th>Person</th>\n",
       "    </tr>\n",
       "  </thead>\n",
       "  <tbody>\n",
       "    <tr>\n",
       "      <th>0</th>\n",
       "      <td>Acting Deputy Regional Counsel</td>\n",
       "      <td>Toney, Marcy</td>\n",
       "    </tr>\n",
       "    <tr>\n",
       "      <th>1</th>\n",
       "      <td>Administrative Record Coordinator</td>\n",
       "      <td>Quesada, Todd;Wheatley, Jessica</td>\n",
       "    </tr>\n",
       "    <tr>\n",
       "      <th>2</th>\n",
       "      <td>CEPPS SEE</td>\n",
       "      <td>Fiala, Zachary</td>\n",
       "    </tr>\n",
       "    <tr>\n",
       "      <th>3</th>\n",
       "      <td>CEPPS Supervisor</td>\n",
       "      <td>Hans, Mick</td>\n",
       "    </tr>\n",
       "    <tr>\n",
       "      <th>4</th>\n",
       "      <td>Comptroller</td>\n",
       "      <td>Meyer, Dale</td>\n",
       "    </tr>\n",
       "  </tbody>\n",
       "</table>\n",
       "</div>"
      ],
      "text/plain": [
       "                               Group                           Person\n",
       "0     Acting Deputy Regional Counsel                     Toney, Marcy\n",
       "1  Administrative Record Coordinator  Quesada, Todd;Wheatley, Jessica\n",
       "2                          CEPPS SEE                   Fiala, Zachary\n",
       "3                   CEPPS Supervisor                       Hans, Mick\n",
       "4                        Comptroller                      Meyer, Dale"
      ]
     },
     "execution_count": 35,
     "metadata": {},
     "output_type": "execute_result"
    }
   ],
   "source": [
    "dfGroups.head()"
   ]
  },
  {
   "cell_type": "code",
   "execution_count": 36,
   "id": "2adeefae",
   "metadata": {
    "scrolled": true
   },
   "outputs": [
    {
     "data": {
      "text/html": [
       "<div>\n",
       "<style scoped>\n",
       "    .dataframe tbody tr th:only-of-type {\n",
       "        vertical-align: middle;\n",
       "    }\n",
       "\n",
       "    .dataframe tbody tr th {\n",
       "        vertical-align: top;\n",
       "    }\n",
       "\n",
       "    .dataframe thead th {\n",
       "        text-align: right;\n",
       "    }\n",
       "</style>\n",
       "<table border=\"1\" class=\"dataframe\">\n",
       "  <thead>\n",
       "    <tr style=\"text-align: right;\">\n",
       "      <th></th>\n",
       "      <th>Unnamed: 0</th>\n",
       "      <th>Gtitles</th>\n",
       "      <th>revGtitles</th>\n",
       "      <th>eTitles</th>\n",
       "    </tr>\n",
       "  </thead>\n",
       "  <tbody>\n",
       "    <tr>\n",
       "      <th>0</th>\n",
       "      <td>0</td>\n",
       "      <td>Acting Deputy Regional Counsel</td>\n",
       "      <td>Deputy Regional Counsel</td>\n",
       "      <td>Administrative Officer</td>\n",
       "    </tr>\n",
       "    <tr>\n",
       "      <th>1</th>\n",
       "      <td>1</td>\n",
       "      <td>Administrative Record Coordinator</td>\n",
       "      <td>Administrative Coordinator</td>\n",
       "      <td>Administrator</td>\n",
       "    </tr>\n",
       "    <tr>\n",
       "      <th>2</th>\n",
       "      <td>2</td>\n",
       "      <td>CEPPS SEE</td>\n",
       "      <td>SEE</td>\n",
       "      <td>Author</td>\n",
       "    </tr>\n",
       "    <tr>\n",
       "      <th>3</th>\n",
       "      <td>3</td>\n",
       "      <td>CEPPS Supervisor</td>\n",
       "      <td>Section Supervisor</td>\n",
       "      <td>Branch APA</td>\n",
       "    </tr>\n",
       "    <tr>\n",
       "      <th>4</th>\n",
       "      <td>4</td>\n",
       "      <td>Comptroller</td>\n",
       "      <td>Comptroller</td>\n",
       "      <td>Branch Manager</td>\n",
       "    </tr>\n",
       "  </tbody>\n",
       "</table>\n",
       "</div>"
      ],
      "text/plain": [
       "   Unnamed: 0                            Gtitles                  revGtitles  \\\n",
       "0           0     Acting Deputy Regional Counsel     Deputy Regional Counsel   \n",
       "1           1  Administrative Record Coordinator  Administrative Coordinator   \n",
       "2           2                          CEPPS SEE                         SEE   \n",
       "3           3                   CEPPS Supervisor          Section Supervisor   \n",
       "4           4                        Comptroller                 Comptroller   \n",
       "\n",
       "                  eTitles  \n",
       "0  Administrative Officer  \n",
       "1           Administrator  \n",
       "2                  Author  \n",
       "3              Branch APA  \n",
       "4          Branch Manager  "
      ]
     },
     "execution_count": 36,
     "metadata": {},
     "output_type": "execute_result"
    }
   ],
   "source": [
    "dfTitles.head()"
   ]
  },
  {
   "cell_type": "code",
   "execution_count": 56,
   "id": "76e04745",
   "metadata": {},
   "outputs": [],
   "source": [
    "uTitles = set(dfTitles['revGtitles'].unique())"
   ]
  },
  {
   "cell_type": "code",
   "execution_count": 57,
   "id": "9396bffa",
   "metadata": {},
   "outputs": [],
   "source": [
    "eTitles = set(eTitles)"
   ]
  },
  {
   "cell_type": "code",
   "execution_count": 58,
   "id": "e6fe5a97",
   "metadata": {},
   "outputs": [
    {
     "data": {
      "text/plain": [
       "32"
      ]
     },
     "execution_count": 58,
     "metadata": {},
     "output_type": "execute_result"
    }
   ],
   "source": [
    "len(uTitles)"
   ]
  },
  {
   "cell_type": "code",
   "execution_count": 59,
   "id": "cc55fa07",
   "metadata": {},
   "outputs": [],
   "source": [
    "uSet = uTitles - eTitles"
   ]
  },
  {
   "cell_type": "markdown",
   "id": "8b20ff8b",
   "metadata": {},
   "source": [
    "### Here is our set of titles unique to SEMD's doc routes"
   ]
  },
  {
   "cell_type": "code",
   "execution_count": 60,
   "id": "a6f555fb",
   "metadata": {},
   "outputs": [
    {
     "data": {
      "text/plain": [
       "{'Administrative Coordinator',\n",
       " 'Administrative Record Coordinator',\n",
       " 'Administrative Staff',\n",
       " 'Comptroller',\n",
       " 'Controlled Correspondence Coordinator',\n",
       " 'Deputy Regional Counsel',\n",
       " 'Document Reviewers',\n",
       " 'EI Coordinator',\n",
       " 'Enforcement Coordinator',\n",
       " 'FOIA Attorney',\n",
       " 'FOIA Mailer',\n",
       " 'Labor Relations Specialist',\n",
       " 'Notaries',\n",
       " 'ORC Associate Branch Manager',\n",
       " 'ORC Hearing Clerk',\n",
       " 'PAAS Lead Accountant',\n",
       " 'PAAS Supervisor',\n",
       " 'Records Officer',\n",
       " 'Regional Congressional Liaison',\n",
       " 'Regional Scientist',\n",
       " 'SEE',\n",
       " 'SPCC Coordinator',\n",
       " 'Student Trainee',\n",
       " 'Tribal Liasion'}"
      ]
     },
     "execution_count": 60,
     "metadata": {},
     "output_type": "execute_result"
    }
   ],
   "source": [
    "uSet"
   ]
  },
  {
   "cell_type": "code",
   "execution_count": 46,
   "id": "e3093ac5",
   "metadata": {},
   "outputs": [
    {
     "data": {
      "text/plain": [
       "23"
      ]
     },
     "execution_count": 46,
     "metadata": {},
     "output_type": "execute_result"
    }
   ],
   "source": [
    "len(uSet)"
   ]
  },
  {
   "cell_type": "markdown",
   "id": "6582f526",
   "metadata": {},
   "source": [
    "## Save the dataFrames to csv files\n"
   ]
  },
  {
   "cell_type": "code",
   "execution_count": 33,
   "id": "4ce240fd",
   "metadata": {},
   "outputs": [],
   "source": [
    "dfTitles.to_csv('../Lists/RawLists/titles_reconcilliation.csv')"
   ]
  }
 ],
 "metadata": {
  "kernelspec": {
   "display_name": "Python 3 (ipykernel)",
   "language": "python",
   "name": "python3"
  },
  "language_info": {
   "codemirror_mode": {
    "name": "ipython",
    "version": 3
   },
   "file_extension": ".py",
   "mimetype": "text/x-python",
   "name": "python",
   "nbconvert_exporter": "python",
   "pygments_lexer": "ipython3",
   "version": "3.9.7"
  }
 },
 "nbformat": 4,
 "nbformat_minor": 5
}
