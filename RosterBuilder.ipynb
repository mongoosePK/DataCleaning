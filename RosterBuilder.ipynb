{
 "cells": [
  {
   "cell_type": "code",
   "execution_count": 20,
   "id": "a82d876a",
   "metadata": {},
   "outputs": [
    {
     "name": "stderr",
     "output_type": "stream",
     "text": [
      "C:\\Users\\wpulkown\\Anaconda3\\lib\\site-packages\\openpyxl\\worksheet\\header_footer.py:48: UserWarning: Cannot parse header or footer so it will be ignored\n",
      "  warn(\"\"\"Cannot parse header or footer so it will be ignored\"\"\")\n"
     ]
    }
   ],
   "source": [
    "import pandas as pd\n",
    "import numpy as np\n",
    "import re\n",
    "\n",
    "dfXcel = pd.read_excel('../RosterFiles/SEMDstaffingChart.xlsx', skiprows=1)\n",
    "dfRoster = pd.DataFrame(columns=['Office', 'OrgCode', 'Name', 'PP',\n",
    "                                 'Series', 'Grade', 'Status', 'FTE', 'Notes', 'eMail'])"
   ]
  },
  {
   "cell_type": "code",
   "execution_count": 21,
   "id": "26eb5301",
   "metadata": {},
   "outputs": [],
   "source": [
    "dfXcel['Unnamed: 3'] = dfXcel['Division Immediate Office']"
   ]
  },
  {
   "cell_type": "code",
   "execution_count": 22,
   "id": "186c6d8b",
   "metadata": {},
   "outputs": [],
   "source": [
    "dfXcel['Unnamed: 3'] = np.where(~dfXcel['Division Immediate Office'].str.contains('Org', na=False),\n",
    "                               np.nan, dfXcel['Division Immediate Office'])"
   ]
  },
  {
   "cell_type": "code",
   "execution_count": 23,
   "id": "85d9b084",
   "metadata": {},
   "outputs": [],
   "source": [
    "dfXcel.loc[:,'Unnamed: 3'] = dfXcel.loc[:,'Unnamed: 3'].ffill()"
   ]
  },
  {
   "cell_type": "code",
   "execution_count": 24,
   "id": "ab45e1af",
   "metadata": {},
   "outputs": [
    {
     "name": "stderr",
     "output_type": "stream",
     "text": [
      "C:\\Users\\wpulkown\\AppData\\Local\\Temp/ipykernel_10528/611487203.py:2: UserWarning: This pattern has match groups. To actually get the groups, use str.extract.\n",
      "  dfXcel['Division Immediate Office'].str.contains('([A-Z][a-zA-Z-]*)?([A-Z]\\w+),\\s([A-Z][^A-Z]\\w+)\\n?(\\s[A-Z]\\w*[.]?)?', na=False)]\n"
     ]
    }
   ],
   "source": [
    "dfOut = dfXcel[\n",
    "    dfXcel['Division Immediate Office'].str.contains('([A-Z][a-zA-Z-]*)?([A-Z]\\w+),\\s([A-Z][^A-Z]\\w+)\\n?(\\s[A-Z]\\w*[.]?)?', na=False)]"
   ]
  },
  {
   "cell_type": "code",
   "execution_count": 25,
   "id": "a0fd0fc2",
   "metadata": {
    "scrolled": true
   },
   "outputs": [],
   "source": [
    "dfRoster['Name'] = dfOut['Division Immediate Office']\n",
    "dfRoster['Office'] = dfOut['Unnamed: 3'] \n",
    "dfRoster['PP'] = dfOut['Unnamed: 4']\n",
    "dfRoster['Series'] = dfOut['Unnamed: 5']\n",
    "dfRoster['Grade'] = dfOut['Unnamed: 6']\n",
    "dfRoster['Status'] = dfOut['Unnamed: 7']\n",
    "dfRoster['FTE'] = dfOut['Unnamed: 8']\n",
    "dfRoster['Notes'] = dfOut['Unnamed: 9']"
   ]
  },
  {
   "cell_type": "code",
   "execution_count": 26,
   "id": "8ce8fbfe",
   "metadata": {},
   "outputs": [],
   "source": [
    "def replace_commas(text):\n",
    "    text = re.sub(', ', '.', text)\n",
    "    return text\n",
    "\n",
    "dfRoster['eMail'] = dfRoster['Name'].apply(lambda x: replace_commas(x))"
   ]
  },
  {
   "cell_type": "code",
   "execution_count": 27,
   "id": "f6c99dee",
   "metadata": {},
   "outputs": [],
   "source": [
    "dfRoster['eMail'] = dfRoster['eMail'].str.split().str[0]"
   ]
  },
  {
   "cell_type": "code",
   "execution_count": 28,
   "id": "122b3aac",
   "metadata": {},
   "outputs": [],
   "source": [
    "dfRoster['eMail'] = dfRoster['eMail'] + '@epa.gov'"
   ]
  },
  {
   "cell_type": "code",
   "execution_count": 29,
   "id": "c4d060e8",
   "metadata": {},
   "outputs": [
    {
     "name": "stderr",
     "output_type": "stream",
     "text": [
      "C:\\Users\\wpulkown\\AppData\\Local\\Temp/ipykernel_10528/3539632221.py:2: UserWarning: This pattern has match groups. To actually get the groups, use str.extract.\n",
      "  dfXcel['Division Immediate Office']\n"
     ]
    }
   ],
   "source": [
    "dfRecruitsOut =  dfXcel[\n",
    "    dfXcel['Division Immediate Office']\n",
    "    .str\n",
    "    .contains(\n",
    "        '(\\d+) (Recruit)(?:[\\w]+)?\\s(?:[a-z\\s]+)?(?:[()\\dof\\s]+)?([A-Z]\\w+\\s?){0,3}(\\d{4})(\\/\\d{4})?(\\/\\d{4})?',\n",
    "    na=False)]"
   ]
  },
  {
   "cell_type": "code",
   "execution_count": 30,
   "id": "a1f3ee2d",
   "metadata": {
    "scrolled": true
   },
   "outputs": [],
   "source": [
    "dfVacantOut = dfXcel[\n",
    "    dfXcel['Division Immediate Office'].str.contains(\n",
    "    'Vacant', na=False)]"
   ]
  },
  {
   "cell_type": "code",
   "execution_count": 31,
   "id": "2c281f4d",
   "metadata": {
    "scrolled": true
   },
   "outputs": [],
   "source": [
    "dfRoster = pd.concat([dfRoster, dfRecruitsOut.rename(columns={'Division Immediate Office':'Name',\n",
    "                                                  'Unnamed: 3':'Office', 'Unnamed: 4':'PP',\n",
    "                                                   'Unnamed: 5': 'Series', 'Unnamed: 6': 'Grade',\n",
    "                                                   'Unnamed: 7': 'Status', 'Unnamed: 8': 'FTE',\n",
    "                                                   'Unnamed: 9': 'Notes'\n",
    "                                                   })], ignore_index=True)"
   ]
  },
  {
   "cell_type": "code",
   "execution_count": 32,
   "id": "7a720b6a",
   "metadata": {},
   "outputs": [],
   "source": [
    "dfRoster = dfRoster.drop_duplicates(subset=['Name'], keep='last')"
   ]
  },
  {
   "cell_type": "code",
   "execution_count": 33,
   "id": "cf91eb7d",
   "metadata": {},
   "outputs": [],
   "source": [
    "dfRoster = pd.concat([dfRoster, dfVacantOut.rename(columns={'Division Immediate Office':'Name',\n",
    "                                                  'Unnamed: 3':'Office', 'Unnamed: 4':'PP',\n",
    "                                                   'Unnamed: 5': 'Series', 'Unnamed: 6': 'Grade',\n",
    "                                                   'Unnamed: 7': 'Status', 'Unnamed: 8': 'FTE',\n",
    "                                                   'Unnamed: 9': 'Notes'\n",
    "                                                   })], ignore_index=True)"
   ]
  },
  {
   "cell_type": "code",
   "execution_count": 34,
   "id": "2f567c8a",
   "metadata": {},
   "outputs": [],
   "source": [
    "dfRoster[['Office','OrgCode']] = dfRoster['Office'].str.split('-', 1, expand=True)"
   ]
  },
  {
   "cell_type": "code",
   "execution_count": 35,
   "id": "4383be25",
   "metadata": {},
   "outputs": [],
   "source": [
    "dfRoster['OrgCode'] = dfRoster['OrgCode'].str.split(n=1).str[0]"
   ]
  },
  {
   "cell_type": "code",
   "execution_count": 36,
   "id": "ebce80a4",
   "metadata": {},
   "outputs": [],
   "source": [
    "dfRoster = dfRoster.drop(columns=['Red - latest Staffing Updates   Green - Pathway Interns', 'Unnamed: 2'])"
   ]
  },
  {
   "cell_type": "code",
   "execution_count": 38,
   "id": "6d79205a",
   "metadata": {
    "scrolled": false
   },
   "outputs": [],
   "source": [
    "dfRoster.to_csv('../RosterFiles/cleanedRoster.csv')"
   ]
  },
  {
   "cell_type": "markdown",
   "id": "fa2be601",
   "metadata": {},
   "source": [
    "And that's pretty much it.\n",
    "TODO:\n",
    "expand office acronyms"
   ]
  }
 ],
 "metadata": {
  "kernelspec": {
   "display_name": "Python 3 (ipykernel)",
   "language": "python",
   "name": "python3"
  },
  "language_info": {
   "codemirror_mode": {
    "name": "ipython",
    "version": 3
   },
   "file_extension": ".py",
   "mimetype": "text/x-python",
   "name": "python",
   "nbconvert_exporter": "python",
   "pygments_lexer": "ipython3",
   "version": "3.9.7"
  }
 },
 "nbformat": 4,
 "nbformat_minor": 5
}
