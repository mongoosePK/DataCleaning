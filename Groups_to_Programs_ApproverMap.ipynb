{
 "cells": [
  {
   "cell_type": "markdown",
   "id": "e121ca46",
   "metadata": {},
   "source": [
    "### This workbook's scripts will take a CSV of text arrays (Approvers' Titles) and output an array of those approvers' names mapped from SEMDGroups"
   ]
  },
  {
   "cell_type": "markdown",
   "id": "e9705f5b",
   "metadata": {},
   "source": [
    "first, lets import libraries and our csv files"
   ]
  },
  {
   "cell_type": "code",
   "execution_count": 1,
   "id": "41cce456",
   "metadata": {},
   "outputs": [],
   "source": [
    "import pandas as pd\n",
    "import numpy as np\n",
    "import re\n",
    "import itertools\n",
    "from ast import literal_eval\n"
   ]
  },
  {
   "cell_type": "code",
   "execution_count": 2,
   "id": "62eb149e",
   "metadata": {},
   "outputs": [],
   "source": [
    "#make dataFrame\n",
    "df = pd.read_csv('../Lists/RawLists/ApproversArrays.csv')\n",
    "dfGroups = pd.read_csv('../Lists/RawLists/SEMDGroups.csv')\n",
    "dfPrograms = pd.read_csv('../Lists/RawLists/SEMDProgramsList.csv')\n",
    "dfTitles = pd.read_csv('../Lists/RawLists/titles_reconcilliation.csv')\n",
    "dfEpath = pd.DataFrame(columns=['Title', 'Office', 'Division', 'Program', 'ResponseTime', 'DueReminder', 'ReviewChain', 'TargetSite', 'TargetLName', 'TargetLtype'])"
   ]
  },
  {
   "cell_type": "markdown",
   "id": "7d549134",
   "metadata": {},
   "source": [
    "next, we will convert the job-title and corresponding names to key-value pairs in a dictionary"
   ]
  },
  {
   "cell_type": "code",
   "execution_count": 3,
   "id": "df94d8f3",
   "metadata": {},
   "outputs": [],
   "source": [
    "#convert Groups to a dictionary, \n",
    "#set key to Group column and set value to Person column \n",
    "groupDict = dfGroups.set_index('Group').to_dict()['Person']\n",
    "titleDict = dfTitles.set_index('Gtitles').to_dict()['revGtitles']"
   ]
  },
  {
   "cell_type": "markdown",
   "id": "a59e3036",
   "metadata": {},
   "source": [
    "this script will remove from the dictionary any consecutive comma groups left by blank spots in the SEMDGroups "
   ]
  },
  {
   "cell_type": "code",
   "execution_count": 4,
   "id": "41f5c233",
   "metadata": {},
   "outputs": [],
   "source": [
    "def remove_consecutive_commas(text):\n",
    "    text = re.sub('( ,)+', '', text)\n",
    "    return text\n",
    "\n",
    "df['ApproverTitles'] = df['ApproverTitles'].apply(lambda x: remove_consecutive_commas(x))\n",
    "df['ApproverTitles'] = df['ApproverTitles'].str.split(pat=', ')"
   ]
  },
  {
   "cell_type": "markdown",
   "id": "1991b918",
   "metadata": {},
   "source": [
    "### So far we have created a list of lists containing the approver's titles and sequence for our SEMD Programs file. We have also created a dictionary from the two columns in SEMDGroups.\n",
    "\n",
    "### Next let's attempt to map names to the Approver Titles list items so that each list in ApproverTitles has a corresponding list of names "
   ]
  },
  {
   "cell_type": "code",
   "execution_count": 5,
   "id": "9520d68a",
   "metadata": {},
   "outputs": [],
   "source": [
    "appList = df['ApproverTitles'].tolist()"
   ]
  },
  {
   "cell_type": "code",
   "execution_count": 6,
   "id": "05163ece",
   "metadata": {},
   "outputs": [],
   "source": [
    "lvals = [[groupDict.get(_, '(Blank)') for _ in row] for row in appList]"
   ]
  },
  {
   "cell_type": "markdown",
   "id": "640bd243",
   "metadata": {},
   "source": [
    "I want to clean the titles in lval so that they are reconciled with [the list in ePath](https://usepa.sharepoint.com/sites/R5eSign/Lists/ePath/all.aspx?FilterField1=Division&FilterValue1=SEMD&FilterType1=Choice&viewid=8eea2505%2Df626%2D44df%2Dab71%2Da7bea4d8eb35)"
   ]
  },
  {
   "cell_type": "code",
   "execution_count": 7,
   "id": "594edb5f",
   "metadata": {},
   "outputs": [],
   "source": [
    "titleList = [[titleDict.get(title, title) for title in row] for row in appList]"
   ]
  },
  {
   "cell_type": "markdown",
   "id": "2bcbd878",
   "metadata": {},
   "source": [
    "# Next we will map our document names to the list of approvers' titles and names\n",
    "\n",
    "Source: dfPrograms['Document']\n",
    "Target: df['Document']"
   ]
  },
  {
   "cell_type": "code",
   "execution_count": 8,
   "id": "41cb8f71",
   "metadata": {},
   "outputs": [],
   "source": [
    "#add the new columns to our main data frame\n",
    "df.insert(0, 'Document', dfPrograms['Document'])"
   ]
  },
  {
   "cell_type": "code",
   "execution_count": 9,
   "id": "ad83a0c5",
   "metadata": {},
   "outputs": [],
   "source": [
    "df.insert(1, 'Program', dfPrograms['Program'])"
   ]
  },
  {
   "cell_type": "markdown",
   "id": "e1fdf6ef",
   "metadata": {},
   "source": [
    "## Now let's create a name list that meets the specifications of the ePath system's 'ReviewerNames' column.\n",
    "\n",
    "Each record in the ReviewerNames column has an arbitrary number of entries in the following pattern:\n",
    "\n",
    "**Number(int)|Stage(str)|Title(str)|lName,fName[;lName,fName] (str)|allRequired(bool)|splitStage(bool)|[stageName]~\\n (str) __last line no tilde__**"
   ]
  },
  {
   "cell_type": "code",
   "execution_count": 10,
   "id": "d8a2ee7b",
   "metadata": {},
   "outputs": [],
   "source": [
    "reviewString = [[f'{x+1}|S{\"0\" if x<10 else \"\"}{x+1}|{title}|{name}|false|false|~' for x, (title, name) in enumerate(zip(titleList[i],lvals[i]))] for i in range(len(titleList))] \n",
    "for s in reviewString:\n",
    "    for s[-1] in s:\n",
    "        s[-1] = s[-1].rstrip('~')"
   ]
  },
  {
   "cell_type": "code",
   "execution_count": 11,
   "id": "0372b1a6",
   "metadata": {},
   "outputs": [],
   "source": [
    "reviewStringsNew = ['\\n'.join(strings) for strings in reviewString]"
   ]
  },
  {
   "cell_type": "markdown",
   "id": "edbe18bc",
   "metadata": {},
   "source": [
    "## **__Great Job!__**\n",
    "<details>\n",
    "<summary>This fundamental string will need to be refined as noted below</summary>\n",
    "<br>\n",
    "- remove trailing tilde on final string line of each list\n",
    "- possible: add carriage return after tilde on each string\n",
    "- blanks must be replaced by empty strings\n",
    "- check w/ lauren about any 'all must approve' stages\n",
    "- \n",
    "</details>\n",
    "\n",
    "### the following section will assemble a dataframe into an _ePath_ compatible format (below)\n",
    "Title (Document), Office(R05), Division(SEMD), Program, ResponseTime, DueReminder, ReviewChain, TargetSite, TargetLName, TargetLType"
   ]
  },
  {
   "cell_type": "code",
   "execution_count": 12,
   "id": "fed59d99",
   "metadata": {},
   "outputs": [],
   "source": [
    "#format dfEpath to ePath's standards\n",
    "dfEpath['Title'] = df['Document']\n",
    "dfEpath['Office'] = 'R05'\n",
    "dfEpath['Division'] = 'SEMD'\n",
    "dfEpath['Program'] = df['Program']\n",
    "dfEpath['ResponseTime'] = '7'\n",
    "dfEpath['DueReminder'] = '1,1'\n",
    "dfEpath['ReviewChain'] = reviewStringsNew\n",
    "dfEpath['TargetSite'] = 'https://XXXXXXXXXXXXXXXXXXXXXXXXXXXXXXXXXXX'\n",
    "dfEpath['TargetLName'] = 'SEMD'\n",
    "dfEpath['TargetLtype'] = 'Library'"
   ]
  },
  {
   "cell_type": "markdown",
   "id": "4c9c800a",
   "metadata": {},
   "source": [
    "\n",
    "\n",
    "## End Scripting\n",
    "### Save dataframe to .csv"
   ]
  },
  {
   "cell_type": "code",
   "execution_count": 13,
   "id": "8be32721",
   "metadata": {
    "scrolled": false
   },
   "outputs": [],
   "source": [
    "#write the resulting dataFrame to a CSV in the draft files folder\n",
    "df.to_csv('../Lists/DraftLists/titlesMapped_cleanedApproverLists.csv')\n",
    "dfEpath.to_csv('../Lists/DraftLists/ePathListEntries.csv')"
   ]
  }
 ],
 "metadata": {
  "kernelspec": {
   "display_name": "Python 3 (ipykernel)",
   "language": "python",
   "name": "python3"
  },
  "language_info": {
   "codemirror_mode": {
    "name": "ipython",
    "version": 3
   },
   "file_extension": ".py",
   "mimetype": "text/x-python",
   "name": "python",
   "nbconvert_exporter": "python",
   "pygments_lexer": "ipython3",
   "version": "3.9.7"
  }
 },
 "nbformat": 4,
 "nbformat_minor": 5
}
